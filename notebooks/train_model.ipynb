{
 "cells": [
  {
   "cell_type": "code",
   "execution_count": null,
   "id": "3cbf25e9-3275-42db-8f24-75a87a3d1777",
   "metadata": {},
   "outputs": [],
   "source": [
    "import numpy as np\n",
    "import pandas as pd\n",
    "from sklearn.model_selection import train_test_split\n",
    "import matplotlib.pyplot as plt\n",
    "from LearningAlgorithms import RegressionAlgorithms\n",
    "import seaborn as sns\n",
    "import itertools\n",
    "from sklearn.metrics import accuracy_score, confusion_matrix"
   ]
  },
  {
   "cell_type": "code",
   "execution_count": null,
   "id": "08204065-ff40-42b6-9578-c67c457d01ef",
   "metadata": {},
   "outputs": [],
   "source": [
    "df = pd.read_pickle(\"../../data/processed/02_feature_data.pkl\")\n",
    "# --------------------------------------------------------------\n",
    "# Create a training and test set\n",
    "# --------------------------------------------------------------\n",
    "df.columns\n",
    "df_train = df.drop([\"month\"], axis=1)\n",
    "\n",
    "X = df_train.drop([\"Power_kW\"], axis=1)\n",
    "y = df_train[\"Power_kW\"]\n",
    "\n",
    "X_train, X_test, y_train, y_test = train_test_split(X, y, test_size=0.2, random_state=42)"
   ]
  },
  {
   "cell_type": "code",
   "execution_count": null,
   "id": "ec935d9a-0bb1-4f02-8cbd-0e9a97387b1d",
   "metadata": {},
   "outputs": [
    {
     "name": "stdout",
     "output_type": "stream",
     "text": [
      "Basic features: 12\n",
      "PCA features: 4\n"
     ]
    }
   ],
   "source": [
    "df.columns\n",
    "basic_features = ['Board temperature_℃', 'Radiation intensity_w',\n",
    "       'Wind pressure_kgm2', 'Top wind speed_MS-2', 'Low wind speed_MS-2',\n",
    "       'station pressure', 'sea level pressure', 'temperature',\n",
    "       'humidity', 'precipitation', 'cloud amount', 'irradiance']\n",
    "pca_features = [\"pca_1\", \"pca_2\", \"pca_3\", \"pca_4\"]\n",
    "\n",
    "print(\"Basic features:\", len(basic_features))\n",
    "print(\"PCA features:\", len(pca_features))\n",
    "\n",
    "\n",
    "feature_set_1 = list(set(basic_features))\n",
    "feature_set_2 = list(set(basic_features + pca_features))"
   ]
  },
  {
   "cell_type": "code",
   "execution_count": null,
   "id": "d70936ec-dd07-4117-8cd6-c9922bf6fd57",
   "metadata": {},
   "outputs": [],
   "source": [
    "import numpy as np\n",
    "from sklearn.model_selection import train_test_split\n",
    "from sklearn.preprocessing import StandardScaler\n",
    "import tensorflow as tf\n",
    "from tensorflow.keras.layers import Dense"
   ]
  },
  {
   "cell_type": "code",
   "execution_count": null,
   "id": "4d02b854-cd4f-481a-a050-30aa9e06d1c7",
   "metadata": {},
   "outputs": [],
   "source": [
    "# Assuming `df` is your DataFrame\n",
    "df_train = df.drop([\"month\"], axis=1)  # Remove 'month' column\n",
    "X = df_train.drop([\"Power_kW\"], axis=1)  # Features\n",
    "y = df_train[\"Power_kW\"]  # Target variable\n",
    "\n",
    "# Split the data into training and validation sets\n",
    "X_train, X_val, y_train, y_val = train_test_split(X, y, test_size=0.2, random_state=42)\n",
    "\n",
    "# Scale the features\n",
    "scaler = StandardScaler()\n",
    "X_train_scaled = scaler.fit_transform(X_train)\n",
    "X_val_scaled = scaler.transform(X_val)\n",
    "\n",
    "# Ensure target variable is converted to numpy arrays\n",
    "y_train = y_train.to_numpy()\n",
    "y_val = y_val.to_numpy()"
   ]
  },
  {
   "cell_type": "code",
   "execution_count": null,
   "id": "accda894-f5c0-4a14-b59f-b7826e122a85",
   "metadata": {},
   "outputs": [
    {
     "name": "stderr",
     "output_type": "stream",
     "text": [
      "c:\\Users\\thara\\Miniconda3\\envs\\solar_pred\\Lib\\site-packages\\keras\\src\\layers\\core\\dense.py:87: UserWarning: Do not pass an `input_shape`/`input_dim` argument to a layer. When using Sequential models, prefer using an `Input(shape)` object as the first layer in the model instead.\n",
      "  super().__init__(activity_regularizer=activity_regularizer, **kwargs)\n"
     ]
    },
    {
     "name": "stdout",
     "output_type": "stream",
     "text": [
      "Epoch 1/50\n",
      "\u001b[1m3140/3140\u001b[0m \u001b[32m━━━━━━━━━━━━━━━━━━━━\u001b[0m\u001b[37m\u001b[0m \u001b[1m7s\u001b[0m 2ms/step - loss: 0.0465 - root_mean_squared_error: 0.1763 - val_loss: 4.3628e-04 - val_root_mean_squared_error: 0.0209\n",
      "Epoch 2/50\n",
      "\u001b[1m3140/3140\u001b[0m \u001b[32m━━━━━━━━━━━━━━━━━━━━\u001b[0m\u001b[37m\u001b[0m \u001b[1m6s\u001b[0m 2ms/step - loss: 3.0093e-04 - root_mean_squared_error: 0.0173 - val_loss: 6.4893e-05 - val_root_mean_squared_error: 0.0081\n",
      "Epoch 3/50\n",
      "\u001b[1m3140/3140\u001b[0m \u001b[32m━━━━━━━━━━━━━━━━━━━━\u001b[0m\u001b[37m\u001b[0m \u001b[1m6s\u001b[0m 2ms/step - loss: 1.6873e-04 - root_mean_squared_error: 0.0129 - val_loss: 6.7735e-05 - val_root_mean_squared_error: 0.0082\n",
      "Epoch 4/50\n",
      "\u001b[1m3140/3140\u001b[0m \u001b[32m━━━━━━━━━━━━━━━━━━━━\u001b[0m\u001b[37m\u001b[0m \u001b[1m6s\u001b[0m 2ms/step - loss: 1.4398e-04 - root_mean_squared_error: 0.0119 - val_loss: 2.0087e-04 - val_root_mean_squared_error: 0.0142\n",
      "Epoch 5/50\n",
      "\u001b[1m3140/3140\u001b[0m \u001b[32m━━━━━━━━━━━━━━━━━━━━\u001b[0m\u001b[37m\u001b[0m \u001b[1m6s\u001b[0m 2ms/step - loss: 1.3362e-04 - root_mean_squared_error: 0.0114 - val_loss: 9.1228e-05 - val_root_mean_squared_error: 0.0096\n",
      "Epoch 6/50\n",
      "\u001b[1m3140/3140\u001b[0m \u001b[32m━━━━━━━━━━━━━━━━━━━━\u001b[0m\u001b[37m\u001b[0m \u001b[1m6s\u001b[0m 2ms/step - loss: 1.0850e-04 - root_mean_squared_error: 0.0103 - val_loss: 2.1180e-04 - val_root_mean_squared_error: 0.0146\n",
      "Epoch 7/50\n",
      "\u001b[1m3140/3140\u001b[0m \u001b[32m━━━━━━━━━━━━━━━━━━━━\u001b[0m\u001b[37m\u001b[0m \u001b[1m6s\u001b[0m 2ms/step - loss: 6.0645e-05 - root_mean_squared_error: 0.0078 - val_loss: 5.0008e-05 - val_root_mean_squared_error: 0.0071\n",
      "Epoch 8/50\n",
      "\u001b[1m3140/3140\u001b[0m \u001b[32m━━━━━━━━━━━━━━━━━━━━\u001b[0m\u001b[37m\u001b[0m \u001b[1m6s\u001b[0m 2ms/step - loss: 7.0503e-05 - root_mean_squared_error: 0.0083 - val_loss: 1.0053e-04 - val_root_mean_squared_error: 0.0100\n",
      "Epoch 9/50\n",
      "\u001b[1m3140/3140\u001b[0m \u001b[32m━━━━━━━━━━━━━━━━━━━━\u001b[0m\u001b[37m\u001b[0m \u001b[1m6s\u001b[0m 2ms/step - loss: 7.9022e-05 - root_mean_squared_error: 0.0088 - val_loss: 4.1389e-05 - val_root_mean_squared_error: 0.0064\n",
      "Epoch 10/50\n",
      "\u001b[1m3140/3140\u001b[0m \u001b[32m━━━━━━━━━━━━━━━━━━━━\u001b[0m\u001b[37m\u001b[0m \u001b[1m6s\u001b[0m 2ms/step - loss: 6.1242e-05 - root_mean_squared_error: 0.0078 - val_loss: 1.6419e-05 - val_root_mean_squared_error: 0.0041\n",
      "Epoch 11/50\n",
      "\u001b[1m3140/3140\u001b[0m \u001b[32m━━━━━━━━━━━━━━━━━━━━\u001b[0m\u001b[37m\u001b[0m \u001b[1m6s\u001b[0m 2ms/step - loss: 4.2704e-05 - root_mean_squared_error: 0.0064 - val_loss: 1.9251e-05 - val_root_mean_squared_error: 0.0044\n",
      "Epoch 12/50\n",
      "\u001b[1m3140/3140\u001b[0m \u001b[32m━━━━━━━━━━━━━━━━━━━━\u001b[0m\u001b[37m\u001b[0m \u001b[1m7s\u001b[0m 2ms/step - loss: 3.8652e-05 - root_mean_squared_error: 0.0061 - val_loss: 7.9195e-06 - val_root_mean_squared_error: 0.0028\n",
      "Epoch 13/50\n",
      "\u001b[1m3140/3140\u001b[0m \u001b[32m━━━━━━━━━━━━━━━━━━━━\u001b[0m\u001b[37m\u001b[0m \u001b[1m6s\u001b[0m 2ms/step - loss: 3.8250e-05 - root_mean_squared_error: 0.0061 - val_loss: 3.9942e-06 - val_root_mean_squared_error: 0.0020\n",
      "Epoch 14/50\n",
      "\u001b[1m3140/3140\u001b[0m \u001b[32m━━━━━━━━━━━━━━━━━━━━\u001b[0m\u001b[37m\u001b[0m \u001b[1m6s\u001b[0m 2ms/step - loss: 3.6969e-05 - root_mean_squared_error: 0.0060 - val_loss: 1.2502e-05 - val_root_mean_squared_error: 0.0035\n",
      "Epoch 15/50\n",
      "\u001b[1m3140/3140\u001b[0m \u001b[32m━━━━━━━━━━━━━━━━━━━━\u001b[0m\u001b[37m\u001b[0m \u001b[1m7s\u001b[0m 2ms/step - loss: 4.1980e-05 - root_mean_squared_error: 0.0064 - val_loss: 4.7470e-06 - val_root_mean_squared_error: 0.0022\n",
      "Epoch 16/50\n",
      "\u001b[1m3140/3140\u001b[0m \u001b[32m━━━━━━━━━━━━━━━━━━━━\u001b[0m\u001b[37m\u001b[0m \u001b[1m6s\u001b[0m 2ms/step - loss: 4.1369e-05 - root_mean_squared_error: 0.0063 - val_loss: 6.7907e-06 - val_root_mean_squared_error: 0.0026\n",
      "Epoch 17/50\n",
      "\u001b[1m3140/3140\u001b[0m \u001b[32m━━━━━━━━━━━━━━━━━━━━\u001b[0m\u001b[37m\u001b[0m \u001b[1m6s\u001b[0m 2ms/step - loss: 2.3688e-05 - root_mean_squared_error: 0.0048 - val_loss: 3.8922e-05 - val_root_mean_squared_error: 0.0062\n",
      "Epoch 18/50\n",
      "\u001b[1m3140/3140\u001b[0m \u001b[32m━━━━━━━━━━━━━━━━━━━━\u001b[0m\u001b[37m\u001b[0m \u001b[1m6s\u001b[0m 2ms/step - loss: 2.9271e-05 - root_mean_squared_error: 0.0054 - val_loss: 8.7977e-05 - val_root_mean_squared_error: 0.0094\n",
      "Epoch 19/50\n",
      "\u001b[1m3140/3140\u001b[0m \u001b[32m━━━━━━━━━━━━━━━━━━━━\u001b[0m\u001b[37m\u001b[0m \u001b[1m6s\u001b[0m 2ms/step - loss: 3.8595e-05 - root_mean_squared_error: 0.0060 - val_loss: 2.0757e-05 - val_root_mean_squared_error: 0.0046\n",
      "Epoch 20/50\n",
      "\u001b[1m3140/3140\u001b[0m \u001b[32m━━━━━━━━━━━━━━━━━━━━\u001b[0m\u001b[37m\u001b[0m \u001b[1m6s\u001b[0m 2ms/step - loss: 2.4199e-05 - root_mean_squared_error: 0.0048 - val_loss: 5.1794e-05 - val_root_mean_squared_error: 0.0072\n",
      "Epoch 21/50\n",
      "\u001b[1m3140/3140\u001b[0m \u001b[32m━━━━━━━━━━━━━━━━━━━━\u001b[0m\u001b[37m\u001b[0m \u001b[1m7s\u001b[0m 2ms/step - loss: 1.8047e-05 - root_mean_squared_error: 0.0042 - val_loss: 2.7970e-06 - val_root_mean_squared_error: 0.0017\n",
      "Epoch 22/50\n",
      "\u001b[1m3140/3140\u001b[0m \u001b[32m━━━━━━━━━━━━━━━━━━━━\u001b[0m\u001b[37m\u001b[0m \u001b[1m7s\u001b[0m 2ms/step - loss: 2.2858e-05 - root_mean_squared_error: 0.0048 - val_loss: 6.7505e-06 - val_root_mean_squared_error: 0.0026\n",
      "Epoch 23/50\n",
      "\u001b[1m3140/3140\u001b[0m \u001b[32m━━━━━━━━━━━━━━━━━━━━\u001b[0m\u001b[37m\u001b[0m \u001b[1m7s\u001b[0m 2ms/step - loss: 2.0624e-05 - root_mean_squared_error: 0.0045 - val_loss: 2.0992e-05 - val_root_mean_squared_error: 0.0046\n",
      "Epoch 24/50\n",
      "\u001b[1m3140/3140\u001b[0m \u001b[32m━━━━━━━━━━━━━━━━━━━━\u001b[0m\u001b[37m\u001b[0m \u001b[1m7s\u001b[0m 2ms/step - loss: 1.7196e-05 - root_mean_squared_error: 0.0041 - val_loss: 1.7413e-05 - val_root_mean_squared_error: 0.0042\n",
      "Epoch 25/50\n",
      "\u001b[1m3140/3140\u001b[0m \u001b[32m━━━━━━━━━━━━━━━━━━━━\u001b[0m\u001b[37m\u001b[0m \u001b[1m7s\u001b[0m 2ms/step - loss: 1.1563e-05 - root_mean_squared_error: 0.0033 - val_loss: 4.4576e-06 - val_root_mean_squared_error: 0.0021\n",
      "Epoch 26/50\n",
      "\u001b[1m3140/3140\u001b[0m \u001b[32m━━━━━━━━━━━━━━━━━━━━\u001b[0m\u001b[37m\u001b[0m \u001b[1m7s\u001b[0m 2ms/step - loss: 1.6244e-05 - root_mean_squared_error: 0.0039 - val_loss: 1.2661e-05 - val_root_mean_squared_error: 0.0036\n",
      "Epoch 27/50\n",
      "\u001b[1m3140/3140\u001b[0m \u001b[32m━━━━━━━━━━━━━━━━━━━━\u001b[0m\u001b[37m\u001b[0m \u001b[1m7s\u001b[0m 2ms/step - loss: 2.3322e-05 - root_mean_squared_error: 0.0048 - val_loss: 1.0701e-05 - val_root_mean_squared_error: 0.0033\n",
      "Epoch 28/50\n",
      "\u001b[1m3140/3140\u001b[0m \u001b[32m━━━━━━━━━━━━━━━━━━━━\u001b[0m\u001b[37m\u001b[0m \u001b[1m7s\u001b[0m 2ms/step - loss: 1.8059e-05 - root_mean_squared_error: 0.0042 - val_loss: 6.6800e-05 - val_root_mean_squared_error: 0.0082\n",
      "Epoch 29/50\n",
      "\u001b[1m3140/3140\u001b[0m \u001b[32m━━━━━━━━━━━━━━━━━━━━\u001b[0m\u001b[37m\u001b[0m \u001b[1m7s\u001b[0m 2ms/step - loss: 1.5584e-05 - root_mean_squared_error: 0.0039 - val_loss: 2.4468e-05 - val_root_mean_squared_error: 0.0049\n",
      "Epoch 30/50\n",
      "\u001b[1m3140/3140\u001b[0m \u001b[32m━━━━━━━━━━━━━━━━━━━━\u001b[0m\u001b[37m\u001b[0m \u001b[1m7s\u001b[0m 2ms/step - loss: 3.1566e-05 - root_mean_squared_error: 0.0055 - val_loss: 5.3814e-07 - val_root_mean_squared_error: 7.3358e-04\n",
      "Epoch 31/50\n",
      "\u001b[1m3140/3140\u001b[0m \u001b[32m━━━━━━━━━━━━━━━━━━━━\u001b[0m\u001b[37m\u001b[0m \u001b[1m7s\u001b[0m 2ms/step - loss: 9.1271e-06 - root_mean_squared_error: 0.0029 - val_loss: 3.1000e-05 - val_root_mean_squared_error: 0.0056\n",
      "Epoch 32/50\n",
      "\u001b[1m3140/3140\u001b[0m \u001b[32m━━━━━━━━━━━━━━━━━━━━\u001b[0m\u001b[37m\u001b[0m \u001b[1m7s\u001b[0m 2ms/step - loss: 1.5744e-05 - root_mean_squared_error: 0.0039 - val_loss: 1.9812e-05 - val_root_mean_squared_error: 0.0045\n",
      "Epoch 33/50\n",
      "\u001b[1m3140/3140\u001b[0m \u001b[32m━━━━━━━━━━━━━━━━━━━━\u001b[0m\u001b[37m\u001b[0m \u001b[1m7s\u001b[0m 2ms/step - loss: 2.2907e-05 - root_mean_squared_error: 0.0047 - val_loss: 3.1171e-05 - val_root_mean_squared_error: 0.0056\n",
      "Epoch 34/50\n",
      "\u001b[1m3140/3140\u001b[0m \u001b[32m━━━━━━━━━━━━━━━━━━━━\u001b[0m\u001b[37m\u001b[0m \u001b[1m7s\u001b[0m 2ms/step - loss: 2.2082e-05 - root_mean_squared_error: 0.0046 - val_loss: 5.8605e-06 - val_root_mean_squared_error: 0.0024\n",
      "Epoch 35/50\n",
      "\u001b[1m3140/3140\u001b[0m \u001b[32m━━━━━━━━━━━━━━━━━━━━\u001b[0m\u001b[37m\u001b[0m \u001b[1m7s\u001b[0m 2ms/step - loss: 2.0771e-05 - root_mean_squared_error: 0.0044 - val_loss: 3.0939e-06 - val_root_mean_squared_error: 0.0018\n",
      "Epoch 36/50\n",
      "\u001b[1m3140/3140\u001b[0m \u001b[32m━━━━━━━━━━━━━━━━━━━━\u001b[0m\u001b[37m\u001b[0m \u001b[1m7s\u001b[0m 2ms/step - loss: 1.4115e-05 - root_mean_squared_error: 0.0037 - val_loss: 4.2866e-06 - val_root_mean_squared_error: 0.0021\n",
      "Epoch 37/50\n",
      "\u001b[1m3140/3140\u001b[0m \u001b[32m━━━━━━━━━━━━━━━━━━━━\u001b[0m\u001b[37m\u001b[0m \u001b[1m7s\u001b[0m 2ms/step - loss: 1.3281e-05 - root_mean_squared_error: 0.0035 - val_loss: 3.5758e-05 - val_root_mean_squared_error: 0.0060\n",
      "Epoch 38/50\n",
      "\u001b[1m3140/3140\u001b[0m \u001b[32m━━━━━━━━━━━━━━━━━━━━\u001b[0m\u001b[37m\u001b[0m \u001b[1m7s\u001b[0m 2ms/step - loss: 1.4079e-05 - root_mean_squared_error: 0.0037 - val_loss: 1.1588e-05 - val_root_mean_squared_error: 0.0034\n",
      "Epoch 39/50\n",
      "\u001b[1m3140/3140\u001b[0m \u001b[32m━━━━━━━━━━━━━━━━━━━━\u001b[0m\u001b[37m\u001b[0m \u001b[1m7s\u001b[0m 2ms/step - loss: 1.3658e-05 - root_mean_squared_error: 0.0037 - val_loss: 1.3034e-06 - val_root_mean_squared_error: 0.0011\n",
      "Epoch 40/50\n",
      "\u001b[1m3140/3140\u001b[0m \u001b[32m━━━━━━━━━━━━━━━━━━━━\u001b[0m\u001b[37m\u001b[0m \u001b[1m6s\u001b[0m 2ms/step - loss: 1.1818e-05 - root_mean_squared_error: 0.0034 - val_loss: 1.3038e-05 - val_root_mean_squared_error: 0.0036\n",
      "Epoch 41/50\n",
      "\u001b[1m3140/3140\u001b[0m \u001b[32m━━━━━━━━━━━━━━━━━━━━\u001b[0m\u001b[37m\u001b[0m \u001b[1m6s\u001b[0m 2ms/step - loss: 8.5070e-06 - root_mean_squared_error: 0.0029 - val_loss: 1.5601e-06 - val_root_mean_squared_error: 0.0012\n",
      "Epoch 42/50\n",
      "\u001b[1m3140/3140\u001b[0m \u001b[32m━━━━━━━━━━━━━━━━━━━━\u001b[0m\u001b[37m\u001b[0m \u001b[1m6s\u001b[0m 2ms/step - loss: 2.5855e-05 - root_mean_squared_error: 0.0048 - val_loss: 1.9785e-06 - val_root_mean_squared_error: 0.0014\n",
      "Epoch 43/50\n",
      "\u001b[1m3140/3140\u001b[0m \u001b[32m━━━━━━━━━━━━━━━━━━━━\u001b[0m\u001b[37m\u001b[0m \u001b[1m6s\u001b[0m 2ms/step - loss: 1.0285e-05 - root_mean_squared_error: 0.0031 - val_loss: 3.6473e-06 - val_root_mean_squared_error: 0.0019\n",
      "Epoch 44/50\n",
      "\u001b[1m3140/3140\u001b[0m \u001b[32m━━━━━━━━━━━━━━━━━━━━\u001b[0m\u001b[37m\u001b[0m \u001b[1m6s\u001b[0m 2ms/step - loss: 1.1755e-05 - root_mean_squared_error: 0.0034 - val_loss: 2.6470e-06 - val_root_mean_squared_error: 0.0016\n",
      "Epoch 45/50\n",
      "\u001b[1m3140/3140\u001b[0m \u001b[32m━━━━━━━━━━━━━━━━━━━━\u001b[0m\u001b[37m\u001b[0m \u001b[1m7s\u001b[0m 2ms/step - loss: 9.5619e-06 - root_mean_squared_error: 0.0030 - val_loss: 3.4980e-06 - val_root_mean_squared_error: 0.0019\n",
      "Epoch 46/50\n",
      "\u001b[1m3140/3140\u001b[0m \u001b[32m━━━━━━━━━━━━━━━━━━━━\u001b[0m\u001b[37m\u001b[0m \u001b[1m6s\u001b[0m 2ms/step - loss: 7.0733e-06 - root_mean_squared_error: 0.0026 - val_loss: 1.1190e-05 - val_root_mean_squared_error: 0.0033\n",
      "Epoch 47/50\n",
      "\u001b[1m3140/3140\u001b[0m \u001b[32m━━━━━━━━━━━━━━━━━━━━\u001b[0m\u001b[37m\u001b[0m \u001b[1m7s\u001b[0m 2ms/step - loss: 9.3804e-06 - root_mean_squared_error: 0.0030 - val_loss: 3.9087e-05 - val_root_mean_squared_error: 0.0063\n",
      "Epoch 48/50\n",
      "\u001b[1m3140/3140\u001b[0m \u001b[32m━━━━━━━━━━━━━━━━━━━━\u001b[0m\u001b[37m\u001b[0m \u001b[1m7s\u001b[0m 2ms/step - loss: 9.3140e-06 - root_mean_squared_error: 0.0029 - val_loss: 5.9744e-05 - val_root_mean_squared_error: 0.0077\n",
      "Epoch 49/50\n",
      "\u001b[1m3140/3140\u001b[0m \u001b[32m━━━━━━━━━━━━━━━━━━━━\u001b[0m\u001b[37m\u001b[0m \u001b[1m7s\u001b[0m 2ms/step - loss: 1.2892e-05 - root_mean_squared_error: 0.0034 - val_loss: 8.3230e-06 - val_root_mean_squared_error: 0.0029\n",
      "Epoch 50/50\n",
      "\u001b[1m3140/3140\u001b[0m \u001b[32m━━━━━━━━━━━━━━━━━━━━\u001b[0m\u001b[37m\u001b[0m \u001b[1m7s\u001b[0m 2ms/step - loss: 1.4465e-05 - root_mean_squared_error: 0.0038 - val_loss: 1.5869e-07 - val_root_mean_squared_error: 3.9836e-04\n"
     ]
    },
    {
     "data": {
      "text/html": [
       "<pre style=\"white-space:pre;overflow-x:auto;line-height:normal;font-family:Menlo,'DejaVu Sans Mono',consolas,'Courier New',monospace\"><span style=\"font-weight: bold\">Model: \"sequential\"</span>\n",
       "</pre>\n"
      ],
      "text/plain": [
       "\u001b[1mModel: \"sequential\"\u001b[0m\n"
      ]
     },
     "metadata": {},
     "output_type": "display_data"
    },
    {
     "data": {
      "text/html": [
       "<pre style=\"white-space:pre;overflow-x:auto;line-height:normal;font-family:Menlo,'DejaVu Sans Mono',consolas,'Courier New',monospace\">┏━━━━━━━━━━━━━━━━━━━━━━━━━━━━━━━━━┳━━━━━━━━━━━━━━━━━━━━━━━━┳━━━━━━━━━━━━━━━┓\n",
       "┃<span style=\"font-weight: bold\"> Layer (type)                    </span>┃<span style=\"font-weight: bold\"> Output Shape           </span>┃<span style=\"font-weight: bold\">       Param # </span>┃\n",
       "┡━━━━━━━━━━━━━━━━━━━━━━━━━━━━━━━━━╇━━━━━━━━━━━━━━━━━━━━━━━━╇━━━━━━━━━━━━━━━┩\n",
       "│ dense (<span style=\"color: #0087ff; text-decoration-color: #0087ff\">Dense</span>)                   │ (<span style=\"color: #00d7ff; text-decoration-color: #00d7ff\">None</span>, <span style=\"color: #00af00; text-decoration-color: #00af00\">32</span>)             │           <span style=\"color: #00af00; text-decoration-color: #00af00\">544</span> │\n",
       "├─────────────────────────────────┼────────────────────────┼───────────────┤\n",
       "│ dense_1 (<span style=\"color: #0087ff; text-decoration-color: #0087ff\">Dense</span>)                 │ (<span style=\"color: #00d7ff; text-decoration-color: #00d7ff\">None</span>, <span style=\"color: #00af00; text-decoration-color: #00af00\">64</span>)             │         <span style=\"color: #00af00; text-decoration-color: #00af00\">2,112</span> │\n",
       "├─────────────────────────────────┼────────────────────────┼───────────────┤\n",
       "│ dense_2 (<span style=\"color: #0087ff; text-decoration-color: #0087ff\">Dense</span>)                 │ (<span style=\"color: #00d7ff; text-decoration-color: #00d7ff\">None</span>, <span style=\"color: #00af00; text-decoration-color: #00af00\">1</span>)              │            <span style=\"color: #00af00; text-decoration-color: #00af00\">65</span> │\n",
       "└─────────────────────────────────┴────────────────────────┴───────────────┘\n",
       "</pre>\n"
      ],
      "text/plain": [
       "┏━━━━━━━━━━━━━━━━━━━━━━━━━━━━━━━━━┳━━━━━━━━━━━━━━━━━━━━━━━━┳━━━━━━━━━━━━━━━┓\n",
       "┃\u001b[1m \u001b[0m\u001b[1mLayer (type)                   \u001b[0m\u001b[1m \u001b[0m┃\u001b[1m \u001b[0m\u001b[1mOutput Shape          \u001b[0m\u001b[1m \u001b[0m┃\u001b[1m \u001b[0m\u001b[1m      Param #\u001b[0m\u001b[1m \u001b[0m┃\n",
       "┡━━━━━━━━━━━━━━━━━━━━━━━━━━━━━━━━━╇━━━━━━━━━━━━━━━━━━━━━━━━╇━━━━━━━━━━━━━━━┩\n",
       "│ dense (\u001b[38;5;33mDense\u001b[0m)                   │ (\u001b[38;5;45mNone\u001b[0m, \u001b[38;5;34m32\u001b[0m)             │           \u001b[38;5;34m544\u001b[0m │\n",
       "├─────────────────────────────────┼────────────────────────┼───────────────┤\n",
       "│ dense_1 (\u001b[38;5;33mDense\u001b[0m)                 │ (\u001b[38;5;45mNone\u001b[0m, \u001b[38;5;34m64\u001b[0m)             │         \u001b[38;5;34m2,112\u001b[0m │\n",
       "├─────────────────────────────────┼────────────────────────┼───────────────┤\n",
       "│ dense_2 (\u001b[38;5;33mDense\u001b[0m)                 │ (\u001b[38;5;45mNone\u001b[0m, \u001b[38;5;34m1\u001b[0m)              │            \u001b[38;5;34m65\u001b[0m │\n",
       "└─────────────────────────────────┴────────────────────────┴───────────────┘\n"
      ]
     },
     "metadata": {},
     "output_type": "display_data"
    },
    {
     "data": {
      "text/html": [
       "<pre style=\"white-space:pre;overflow-x:auto;line-height:normal;font-family:Menlo,'DejaVu Sans Mono',consolas,'Courier New',monospace\"><span style=\"font-weight: bold\"> Total params: </span><span style=\"color: #00af00; text-decoration-color: #00af00\">8,165</span> (31.90 KB)\n",
       "</pre>\n"
      ],
      "text/plain": [
       "\u001b[1m Total params: \u001b[0m\u001b[38;5;34m8,165\u001b[0m (31.90 KB)\n"
      ]
     },
     "metadata": {},
     "output_type": "display_data"
    },
    {
     "data": {
      "text/html": [
       "<pre style=\"white-space:pre;overflow-x:auto;line-height:normal;font-family:Menlo,'DejaVu Sans Mono',consolas,'Courier New',monospace\"><span style=\"font-weight: bold\"> Trainable params: </span><span style=\"color: #00af00; text-decoration-color: #00af00\">2,721</span> (10.63 KB)\n",
       "</pre>\n"
      ],
      "text/plain": [
       "\u001b[1m Trainable params: \u001b[0m\u001b[38;5;34m2,721\u001b[0m (10.63 KB)\n"
      ]
     },
     "metadata": {},
     "output_type": "display_data"
    },
    {
     "data": {
      "text/html": [
       "<pre style=\"white-space:pre;overflow-x:auto;line-height:normal;font-family:Menlo,'DejaVu Sans Mono',consolas,'Courier New',monospace\"><span style=\"font-weight: bold\"> Non-trainable params: </span><span style=\"color: #00af00; text-decoration-color: #00af00\">0</span> (0.00 B)\n",
       "</pre>\n"
      ],
      "text/plain": [
       "\u001b[1m Non-trainable params: \u001b[0m\u001b[38;5;34m0\u001b[0m (0.00 B)\n"
      ]
     },
     "metadata": {},
     "output_type": "display_data"
    },
    {
     "data": {
      "text/html": [
       "<pre style=\"white-space:pre;overflow-x:auto;line-height:normal;font-family:Menlo,'DejaVu Sans Mono',consolas,'Courier New',monospace\"><span style=\"font-weight: bold\"> Optimizer params: </span><span style=\"color: #00af00; text-decoration-color: #00af00\">5,444</span> (21.27 KB)\n",
       "</pre>\n"
      ],
      "text/plain": [
       "\u001b[1m Optimizer params: \u001b[0m\u001b[38;5;34m5,444\u001b[0m (21.27 KB)\n"
      ]
     },
     "metadata": {},
     "output_type": "display_data"
    }
   ],
   "source": [
    "def create_spfnet(n_layers, n_activation, kernels):\n",
    "    model = tf.keras.models.Sequential()\n",
    "    for i, nodes in enumerate(n_layers):\n",
    "        if i == 0:\n",
    "            model.add(Dense(nodes, kernel_initializer=kernels, activation=n_activation, input_dim=X_train_scaled.shape[1]))\n",
    "        else:\n",
    "            model.add(Dense(nodes, activation=n_activation, kernel_initializer=kernels))\n",
    "    model.add(Dense(1))  # Output layer for regression\n",
    "    model.compile(loss='mse', \n",
    "                  optimizer='adam',\n",
    "                  metrics=[tf.keras.metrics.RootMeanSquaredError()])\n",
    "    return model\n",
    "\n",
    "# Define the model\n",
    "spfnet = create_spfnet([32, 64], 'relu', 'normal')\n",
    "\n",
    "# Train the model\n",
    "history = spfnet.fit(\n",
    "    X_train_scaled, y_train,\n",
    "    validation_data=(X_val_scaled, y_val),\n",
    "    epochs=50,\n",
    "    batch_size=32,\n",
    "    verbose=1\n",
    ")\n",
    "\n",
    "# Summarize the model\n",
    "spfnet.summary()"
   ]
  }
 ],
 "metadata": {
  "language_info": {
   "codemirror_mode": {
    "name": "ipython",
    "version": 3
   },
   "file_extension": ".py",
   "mimetype": "text/x-python",
   "name": "python",
   "nbconvert_exporter": "python",
   "pygments_lexer": "ipython3",
   "version": 3
  }
 },
 "nbformat": 4,
 "nbformat_minor": 2
}
